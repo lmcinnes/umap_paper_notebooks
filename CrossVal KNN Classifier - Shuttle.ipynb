{
 "cells": [
  {
   "cell_type": "code",
   "execution_count": 1,
   "metadata": {},
   "outputs": [],
   "source": [
    "import numpy as np\n",
    "import pandas as pd\n",
    "import sklearn.neighbors\n",
    "import sklearn.model_selection\n",
    "import sklearn.datasets\n",
    "import sklearn.manifold\n",
    "import sklearn.decomposition"
   ]
  },
  {
   "cell_type": "code",
   "execution_count": 2,
   "metadata": {},
   "outputs": [],
   "source": [
    "def score_embedding(data, labels, k=10, n_neighbors=5, random_state=42):\n",
    "    model = sklearn.neighbors.KNeighborsClassifier(n_neighbors=n_neighbors)\n",
    "    cv = sklearn.model_selection.StratifiedKFold(n_splits=k, random_state=random_state)\n",
    "    return sklearn.model_selection.cross_val_score(model, data, labels, cv=cv)"
   ]
  },
  {
   "cell_type": "code",
   "execution_count": 3,
   "metadata": {},
   "outputs": [],
   "source": [
    "def compare_embeddings(embeddings, n_neighbors=5, k=10, random_state=42):\n",
    "    cross_val_scores = {}\n",
    "    for alg in embeddings.keys():\n",
    "        cross_val_scores[alg] = score_embedding(embeddings[alg][['x', 'y']].values, \n",
    "                                                embeddings[alg]['labels'].values,\n",
    "                                                n_neighbors=n_neighbors,\n",
    "                                                k=k,\n",
    "                                                random_state=random_state)\n",
    "    return pd.DataFrame(cross_val_scores).assign(n_neighbors=n_neighbors)"
   ]
  },
  {
   "cell_type": "code",
   "execution_count": 4,
   "metadata": {},
   "outputs": [],
   "source": [
    "shuttle = {}\n",
    "shuttle['tsne'] = pd.read_csv('embedding_shuttle_tsne.csv', index_col=0)\n",
    "shuttle['umap'] = pd.read_csv('embedding_shuttle_umap.csv', index_col=0)\n",
    "shuttle['lvis'] = pd.read_csv('embedding_shuttle_largevis1.csv', index_col=0)\n",
    "shuttle['fits'] = pd.read_csv('embedding_shuttle_fitsne1.csv', index_col=0)\n",
    "shuttle['leig'] = pd.read_csv('embedding_shuttle_eigenmaps.csv', index_col=0)\n",
    "shuttle['pca'] = pd.read_csv('embedding_shuttle_pca.csv', index_col=0)"
   ]
  },
  {
   "cell_type": "code",
   "execution_count": 5,
   "metadata": {},
   "outputs": [],
   "source": [
    "df = pd.concat(compare_embeddings(shuttle, n_neighbors=n, k=10) for n in (100,200,400,800,1600,3200))"
   ]
  },
  {
   "cell_type": "code",
   "execution_count": 6,
   "metadata": {},
   "outputs": [
    {
     "data": {
      "text/html": [
       "<div>\n",
       "<style scoped>\n",
       "    .dataframe tbody tr th:only-of-type {\n",
       "        vertical-align: middle;\n",
       "    }\n",
       "\n",
       "    .dataframe tbody tr th {\n",
       "        vertical-align: top;\n",
       "    }\n",
       "\n",
       "    .dataframe thead th {\n",
       "        text-align: right;\n",
       "    }\n",
       "</style>\n",
       "<table border=\"1\" class=\"dataframe\">\n",
       "  <thead>\n",
       "    <tr style=\"text-align: right;\">\n",
       "      <th></th>\n",
       "      <th>tsne</th>\n",
       "      <th>umap</th>\n",
       "      <th>lvis</th>\n",
       "      <th>fits</th>\n",
       "      <th>leig</th>\n",
       "      <th>pca</th>\n",
       "    </tr>\n",
       "    <tr>\n",
       "      <th>n_neighbors</th>\n",
       "      <th></th>\n",
       "      <th></th>\n",
       "      <th></th>\n",
       "      <th></th>\n",
       "      <th></th>\n",
       "      <th></th>\n",
       "    </tr>\n",
       "  </thead>\n",
       "  <tbody>\n",
       "    <tr>\n",
       "      <th>100</th>\n",
       "      <td>0.994379</td>\n",
       "      <td>0.992931</td>\n",
       "      <td>0.992103</td>\n",
       "      <td>0.993207</td>\n",
       "      <td>0.962224</td>\n",
       "      <td>0.832621</td>\n",
       "    </tr>\n",
       "    <tr>\n",
       "      <th>200</th>\n",
       "      <td>0.992241</td>\n",
       "      <td>0.989845</td>\n",
       "      <td>0.987069</td>\n",
       "      <td>0.989397</td>\n",
       "      <td>0.956948</td>\n",
       "      <td>0.820828</td>\n",
       "    </tr>\n",
       "    <tr>\n",
       "      <th>400</th>\n",
       "      <td>0.990207</td>\n",
       "      <td>0.988155</td>\n",
       "      <td>0.976173</td>\n",
       "      <td>0.981569</td>\n",
       "      <td>0.948914</td>\n",
       "      <td>0.814672</td>\n",
       "    </tr>\n",
       "    <tr>\n",
       "      <th>800</th>\n",
       "      <td>0.968517</td>\n",
       "      <td>0.988466</td>\n",
       "      <td>0.957241</td>\n",
       "      <td>0.961328</td>\n",
       "      <td>0.941569</td>\n",
       "      <td>0.804172</td>\n",
       "    </tr>\n",
       "    <tr>\n",
       "      <th>1600</th>\n",
       "      <td>0.926569</td>\n",
       "      <td>0.981104</td>\n",
       "      <td>0.904293</td>\n",
       "      <td>0.933983</td>\n",
       "      <td>0.918189</td>\n",
       "      <td>0.792138</td>\n",
       "    </tr>\n",
       "    <tr>\n",
       "      <th>3200</th>\n",
       "      <td>0.827724</td>\n",
       "      <td>0.957241</td>\n",
       "      <td>0.850430</td>\n",
       "      <td>0.859949</td>\n",
       "      <td>0.894535</td>\n",
       "      <td>0.785914</td>\n",
       "    </tr>\n",
       "  </tbody>\n",
       "</table>\n",
       "</div>"
      ],
      "text/plain": [
       "                 tsne      umap      lvis      fits      leig       pca\n",
       "n_neighbors                                                            \n",
       "100          0.994379  0.992931  0.992103  0.993207  0.962224  0.832621\n",
       "200          0.992241  0.989845  0.987069  0.989397  0.956948  0.820828\n",
       "400          0.990207  0.988155  0.976173  0.981569  0.948914  0.814672\n",
       "800          0.968517  0.988466  0.957241  0.961328  0.941569  0.804172\n",
       "1600         0.926569  0.981104  0.904293  0.933983  0.918189  0.792138\n",
       "3200         0.827724  0.957241  0.850430  0.859949  0.894535  0.785914"
      ]
     },
     "execution_count": 6,
     "metadata": {},
     "output_type": "execute_result"
    }
   ],
   "source": [
    "df.groupby('n_neighbors').mean()"
   ]
  },
  {
   "cell_type": "code",
   "execution_count": 7,
   "metadata": {},
   "outputs": [
    {
     "data": {
      "text/html": [
       "<div>\n",
       "<style scoped>\n",
       "    .dataframe tbody tr th:only-of-type {\n",
       "        vertical-align: middle;\n",
       "    }\n",
       "\n",
       "    .dataframe tbody tr th {\n",
       "        vertical-align: top;\n",
       "    }\n",
       "\n",
       "    .dataframe thead th {\n",
       "        text-align: right;\n",
       "    }\n",
       "</style>\n",
       "<table border=\"1\" class=\"dataframe\">\n",
       "  <thead>\n",
       "    <tr style=\"text-align: right;\">\n",
       "      <th></th>\n",
       "      <th>tsne</th>\n",
       "      <th>umap</th>\n",
       "      <th>lvis</th>\n",
       "      <th>fits</th>\n",
       "      <th>leig</th>\n",
       "      <th>pca</th>\n",
       "    </tr>\n",
       "    <tr>\n",
       "      <th>n_neighbors</th>\n",
       "      <th></th>\n",
       "      <th></th>\n",
       "      <th></th>\n",
       "      <th></th>\n",
       "      <th></th>\n",
       "      <th></th>\n",
       "    </tr>\n",
       "  </thead>\n",
       "  <tbody>\n",
       "    <tr>\n",
       "      <th>100</th>\n",
       "      <td>0.002127</td>\n",
       "      <td>0.002496</td>\n",
       "      <td>0.003122</td>\n",
       "      <td>0.002545</td>\n",
       "      <td>0.003998</td>\n",
       "      <td>0.012838</td>\n",
       "    </tr>\n",
       "    <tr>\n",
       "      <th>200</th>\n",
       "      <td>0.001950</td>\n",
       "      <td>0.002292</td>\n",
       "      <td>0.003053</td>\n",
       "      <td>0.003471</td>\n",
       "      <td>0.006020</td>\n",
       "      <td>0.007306</td>\n",
       "    </tr>\n",
       "    <tr>\n",
       "      <th>400</th>\n",
       "      <td>0.002445</td>\n",
       "      <td>0.002274</td>\n",
       "      <td>0.002975</td>\n",
       "      <td>0.003335</td>\n",
       "      <td>0.005765</td>\n",
       "      <td>0.006987</td>\n",
       "    </tr>\n",
       "    <tr>\n",
       "      <th>800</th>\n",
       "      <td>0.005085</td>\n",
       "      <td>0.002143</td>\n",
       "      <td>0.003711</td>\n",
       "      <td>0.004482</td>\n",
       "      <td>0.005708</td>\n",
       "      <td>0.003374</td>\n",
       "    </tr>\n",
       "    <tr>\n",
       "      <th>1600</th>\n",
       "      <td>0.004735</td>\n",
       "      <td>0.002421</td>\n",
       "      <td>0.006620</td>\n",
       "      <td>0.006326</td>\n",
       "      <td>0.006455</td>\n",
       "      <td>0.002544</td>\n",
       "    </tr>\n",
       "    <tr>\n",
       "      <th>3200</th>\n",
       "      <td>0.004041</td>\n",
       "      <td>0.005485</td>\n",
       "      <td>0.008154</td>\n",
       "      <td>0.002454</td>\n",
       "      <td>0.005905</td>\n",
       "      <td>0.000504</td>\n",
       "    </tr>\n",
       "  </tbody>\n",
       "</table>\n",
       "</div>"
      ],
      "text/plain": [
       "                 tsne      umap      lvis      fits      leig       pca\n",
       "n_neighbors                                                            \n",
       "100          0.002127  0.002496  0.003122  0.002545  0.003998  0.012838\n",
       "200          0.001950  0.002292  0.003053  0.003471  0.006020  0.007306\n",
       "400          0.002445  0.002274  0.002975  0.003335  0.005765  0.006987\n",
       "800          0.005085  0.002143  0.003711  0.004482  0.005708  0.003374\n",
       "1600         0.004735  0.002421  0.006620  0.006326  0.006455  0.002544\n",
       "3200         0.004041  0.005485  0.008154  0.002454  0.005905  0.000504"
      ]
     },
     "execution_count": 7,
     "metadata": {},
     "output_type": "execute_result"
    }
   ],
   "source": [
    "df.groupby('n_neighbors').std() * 2"
   ]
  },
  {
   "cell_type": "code",
   "execution_count": 8,
   "metadata": {},
   "outputs": [],
   "source": [
    "import seaborn as sns\n",
    "sns.set()"
   ]
  },
  {
   "cell_type": "code",
   "execution_count": 9,
   "metadata": {},
   "outputs": [],
   "source": [
    "tidy_df = df.reset_index().melt(id_vars=['index', 'n_neighbors'], \n",
    "                                value_vars=['fits', 'leig', 'lvis', 'pca', 'tsne', 'umap'])\n",
    "tidy_df = tidy_df.rename(columns={'index':'fold', 'variable':'algorithm'})\n",
    "tidy_df = tidy_df[tidy_df.algorithm != 'fits']"
   ]
  },
  {
   "cell_type": "code",
   "execution_count": 11,
   "metadata": {},
   "outputs": [
    {
     "data": {
      "text/plain": [
       "<seaborn.axisgrid.FacetGrid at 0x7f87c4d60208>"
      ]
     },
     "execution_count": 11,
     "metadata": {},
     "output_type": "execute_result"
    },
    {
     "data": {
      "image/png": "[encoded data removed]",
      "text/plain": [
       "<Figure size 2160x360 with 6 Axes>"
      ]
     },
     "metadata": {},
     "output_type": "display_data"
    }
   ],
   "source": [
    "sns.catplot(x='algorithm', \n",
    "            y='value', \n",
    "            hue='algorithm', \n",
    "            kind='swarm', \n",
    "            col='n_neighbors',\n",
    "            order=['pca', 'leig', 'lvis', 'tsne', 'umap'],\n",
    "            data=tidy_df)"
   ]
  },
  {
   "cell_type": "code",
   "execution_count": 12,
   "metadata": {},
   "outputs": [],
   "source": [
    "tidy_df.assign(dataset='Shuttle').to_csv('shuttle_crossval_results.csv')"
   ]
  },
  {
   "cell_type": "code",
   "execution_count": null,
   "metadata": {},
   "outputs": [],
   "source": []
  }
 ],
 "metadata": {
  "kernelspec": {
   "display_name": "Python [conda env:umap_dev]",
   "language": "python",
   "name": "conda-env-umap_dev-py"
  },
  "language_info": {
   "codemirror_mode": {
    "name": "ipython",
    "version": 3
   },
   "file_extension": ".py",
   "mimetype": "text/x-python",
   "name": "python",
   "nbconvert_exporter": "python",
   "pygments_lexer": "ipython3",
   "version": "3.6.8"
  }
 },
 "nbformat": 4,
 "nbformat_minor": 2
}
