{
 "cells": [
  {
   "cell_type": "code",
   "execution_count": 1,
   "metadata": {},
   "outputs": [],
   "source": [
    "import numpy as np\n",
    "import pandas as pd\n",
    "import sklearn.neighbors\n",
    "import sklearn.model_selection\n",
    "import sklearn.datasets\n",
    "import sklearn.manifold\n",
    "import sklearn.decomposition"
   ]
  },
  {
   "cell_type": "code",
   "execution_count": 2,
   "metadata": {},
   "outputs": [],
   "source": [
    "def score_embedding(data, labels, k=10, n_neighbors=5, random_state=42):\n",
    "    model = sklearn.neighbors.KNeighborsClassifier(n_neighbors=n_neighbors)\n",
    "    cv = sklearn.model_selection.StratifiedKFold(n_splits=k, random_state=random_state)\n",
    "    return sklearn.model_selection.cross_val_score(model, data, labels, cv=cv)"
   ]
  },
  {
   "cell_type": "code",
   "execution_count": 3,
   "metadata": {},
   "outputs": [],
   "source": [
    "def compare_embeddings(embeddings, n_neighbors=5, k=10, random_state=42):\n",
    "    cross_val_scores = {}\n",
    "    for alg in embeddings.keys():\n",
    "        cross_val_scores[alg] = score_embedding(embeddings[alg][['x', 'y']].values, \n",
    "                                                embeddings[alg]['labels'].values,\n",
    "                                                n_neighbors=n_neighbors,\n",
    "                                                k=k,\n",
    "                                                random_state=random_state)\n",
    "    return pd.DataFrame(cross_val_scores).assign(n_neighbors=n_neighbors)"
   ]
  },
  {
   "cell_type": "code",
   "execution_count": 4,
   "metadata": {},
   "outputs": [],
   "source": [
    "coil20 = {}\n",
    "coil20['tsne'] = pd.read_csv('embedding_coil20_tsne1.csv', index_col=0)\n",
    "coil20['umap'] = pd.read_csv('embedding_coil20_umap1.csv', index_col=0)\n",
    "coil20['lvis'] = pd.read_csv('embedding_coil20_largevis1.csv', index_col=0)\n",
    "coil20['fits'] = pd.read_csv('embedding_coil20_fitsne1.csv', index_col=0)\n",
    "coil20['leig'] = pd.read_csv('embedding_coil20_eigenmaps1.csv', index_col=0)\n",
    "coil20['pca'] = pd.read_csv('embedding_coil20_pca.csv', index_col=0)"
   ]
  },
  {
   "cell_type": "code",
   "execution_count": 5,
   "metadata": {},
   "outputs": [],
   "source": [
    "df = pd.concat(compare_embeddings(coil20, n_neighbors=n) for n in (10,20,40,80,160))"
   ]
  },
  {
   "cell_type": "code",
   "execution_count": 6,
   "metadata": {},
   "outputs": [
    {
     "data": {
      "text/html": [
       "<div>\n",
       "<style scoped>\n",
       "    .dataframe tbody tr th:only-of-type {\n",
       "        vertical-align: middle;\n",
       "    }\n",
       "\n",
       "    .dataframe tbody tr th {\n",
       "        vertical-align: top;\n",
       "    }\n",
       "\n",
       "    .dataframe thead th {\n",
       "        text-align: right;\n",
       "    }\n",
       "</style>\n",
       "<table border=\"1\" class=\"dataframe\">\n",
       "  <thead>\n",
       "    <tr style=\"text-align: right;\">\n",
       "      <th></th>\n",
       "      <th>tsne</th>\n",
       "      <th>umap</th>\n",
       "      <th>lvis</th>\n",
       "      <th>fits</th>\n",
       "      <th>leig</th>\n",
       "      <th>pca</th>\n",
       "    </tr>\n",
       "    <tr>\n",
       "      <th>n_neighbors</th>\n",
       "      <th></th>\n",
       "      <th></th>\n",
       "      <th></th>\n",
       "      <th></th>\n",
       "      <th></th>\n",
       "      <th></th>\n",
       "    </tr>\n",
       "  </thead>\n",
       "  <tbody>\n",
       "    <tr>\n",
       "      <th>10</th>\n",
       "      <td>0.934286</td>\n",
       "      <td>0.920714</td>\n",
       "      <td>0.888125</td>\n",
       "      <td>0.918750</td>\n",
       "      <td>0.628661</td>\n",
       "      <td>0.667321</td>\n",
       "    </tr>\n",
       "    <tr>\n",
       "      <th>20</th>\n",
       "      <td>0.901250</td>\n",
       "      <td>0.907232</td>\n",
       "      <td>0.869643</td>\n",
       "      <td>0.906339</td>\n",
       "      <td>0.604643</td>\n",
       "      <td>0.663214</td>\n",
       "    </tr>\n",
       "    <tr>\n",
       "      <th>40</th>\n",
       "      <td>0.856518</td>\n",
       "      <td>0.904464</td>\n",
       "      <td>0.833839</td>\n",
       "      <td>0.856875</td>\n",
       "      <td>0.577500</td>\n",
       "      <td>0.620000</td>\n",
       "    </tr>\n",
       "    <tr>\n",
       "      <th>80</th>\n",
       "      <td>0.789375</td>\n",
       "      <td>0.899107</td>\n",
       "      <td>0.803036</td>\n",
       "      <td>0.775268</td>\n",
       "      <td>0.564643</td>\n",
       "      <td>0.531250</td>\n",
       "    </tr>\n",
       "    <tr>\n",
       "      <th>160</th>\n",
       "      <td>0.608929</td>\n",
       "      <td>0.802679</td>\n",
       "      <td>0.615982</td>\n",
       "      <td>0.625625</td>\n",
       "      <td>0.445804</td>\n",
       "      <td>0.375089</td>\n",
       "    </tr>\n",
       "  </tbody>\n",
       "</table>\n",
       "</div>"
      ],
      "text/plain": [
       "                 tsne      umap      lvis      fits      leig       pca\n",
       "n_neighbors                                                            \n",
       "10           0.934286  0.920714  0.888125  0.918750  0.628661  0.667321\n",
       "20           0.901250  0.907232  0.869643  0.906339  0.604643  0.663214\n",
       "40           0.856518  0.904464  0.833839  0.856875  0.577500  0.620000\n",
       "80           0.789375  0.899107  0.803036  0.775268  0.564643  0.531250\n",
       "160          0.608929  0.802679  0.615982  0.625625  0.445804  0.375089"
      ]
     },
     "execution_count": 6,
     "metadata": {},
     "output_type": "execute_result"
    }
   ],
   "source": [
    "df.groupby('n_neighbors').mean()"
   ]
  },
  {
   "cell_type": "code",
   "execution_count": 7,
   "metadata": {},
   "outputs": [
    {
     "data": {
      "text/html": [
       "<div>\n",
       "<style scoped>\n",
       "    .dataframe tbody tr th:only-of-type {\n",
       "        vertical-align: middle;\n",
       "    }\n",
       "\n",
       "    .dataframe tbody tr th {\n",
       "        vertical-align: top;\n",
       "    }\n",
       "\n",
       "    .dataframe thead th {\n",
       "        text-align: right;\n",
       "    }\n",
       "</style>\n",
       "<table border=\"1\" class=\"dataframe\">\n",
       "  <thead>\n",
       "    <tr style=\"text-align: right;\">\n",
       "      <th></th>\n",
       "      <th>tsne</th>\n",
       "      <th>umap</th>\n",
       "      <th>lvis</th>\n",
       "      <th>fits</th>\n",
       "      <th>leig</th>\n",
       "      <th>pca</th>\n",
       "    </tr>\n",
       "    <tr>\n",
       "      <th>n_neighbors</th>\n",
       "      <th></th>\n",
       "      <th></th>\n",
       "      <th></th>\n",
       "      <th></th>\n",
       "      <th></th>\n",
       "      <th></th>\n",
       "    </tr>\n",
       "  </thead>\n",
       "  <tbody>\n",
       "    <tr>\n",
       "      <th>10</th>\n",
       "      <td>0.114791</td>\n",
       "      <td>0.075395</td>\n",
       "      <td>0.091574</td>\n",
       "      <td>0.091306</td>\n",
       "      <td>0.152869</td>\n",
       "      <td>0.178984</td>\n",
       "    </tr>\n",
       "    <tr>\n",
       "      <th>20</th>\n",
       "      <td>0.132566</td>\n",
       "      <td>0.063790</td>\n",
       "      <td>0.124960</td>\n",
       "      <td>0.107171</td>\n",
       "      <td>0.185160</td>\n",
       "      <td>0.195957</td>\n",
       "    </tr>\n",
       "    <tr>\n",
       "      <th>40</th>\n",
       "      <td>0.125306</td>\n",
       "      <td>0.055921</td>\n",
       "      <td>0.105800</td>\n",
       "      <td>0.116351</td>\n",
       "      <td>0.159152</td>\n",
       "      <td>0.229716</td>\n",
       "    </tr>\n",
       "    <tr>\n",
       "      <th>80</th>\n",
       "      <td>0.117606</td>\n",
       "      <td>0.057907</td>\n",
       "      <td>0.099500</td>\n",
       "      <td>0.088200</td>\n",
       "      <td>0.119069</td>\n",
       "      <td>0.294494</td>\n",
       "    </tr>\n",
       "    <tr>\n",
       "      <th>160</th>\n",
       "      <td>0.066842</td>\n",
       "      <td>0.137718</td>\n",
       "      <td>0.065813</td>\n",
       "      <td>0.078301</td>\n",
       "      <td>0.110413</td>\n",
       "      <td>0.110594</td>\n",
       "    </tr>\n",
       "  </tbody>\n",
       "</table>\n",
       "</div>"
      ],
      "text/plain": [
       "                 tsne      umap      lvis      fits      leig       pca\n",
       "n_neighbors                                                            \n",
       "10           0.114791  0.075395  0.091574  0.091306  0.152869  0.178984\n",
       "20           0.132566  0.063790  0.124960  0.107171  0.185160  0.195957\n",
       "40           0.125306  0.055921  0.105800  0.116351  0.159152  0.229716\n",
       "80           0.117606  0.057907  0.099500  0.088200  0.119069  0.294494\n",
       "160          0.066842  0.137718  0.065813  0.078301  0.110413  0.110594"
      ]
     },
     "execution_count": 7,
     "metadata": {},
     "output_type": "execute_result"
    }
   ],
   "source": [
    "df.groupby('n_neighbors').std() * 2"
   ]
  },
  {
   "cell_type": "code",
   "execution_count": 18,
   "metadata": {},
   "outputs": [],
   "source": [
    "import seaborn as sns\n",
    "sns.set()"
   ]
  },
  {
   "cell_type": "code",
   "execution_count": 23,
   "metadata": {},
   "outputs": [],
   "source": [
    "tidy_df = df.reset_index().melt(id_vars=['index', 'n_neighbors'], \n",
    "                                value_vars=['fits', 'leig', 'lvis', 'pca', 'tsne', 'umap'])\n",
    "tidy_df = tidy_df.rename(columns={'index':'fold', 'variable':'algorithm'})\n",
    "tidy_df = tidy_df[tidy_df.algorithm != 'fits']"
   ]
  },
  {
   "cell_type": "code",
   "execution_count": 26,
   "metadata": {},
   "outputs": [
    {
     "data": {
      "text/plain": [
       "<seaborn.axisgrid.FacetGrid at 0x7fd8415d66d8>"
      ]
     },
     "execution_count": 26,
     "metadata": {},
     "output_type": "execute_result"
    },
    {
     "data": {
      "image/png": "[encoded data removed]",
      "text/plain": [
       "<Figure size 1800x360 with 5 Axes>"
      ]
     },
     "metadata": {},
     "output_type": "display_data"
    }
   ],
   "source": [
    "sns.catplot(x='algorithm', \n",
    "            y='value', \n",
    "            hue='algorithm', \n",
    "            kind='swarm', \n",
    "            col='n_neighbors',\n",
    "            order=['pca', 'leig', 'lvis', 'tsne', 'umap'],\n",
    "            data=tidy_df)"
   ]
  },
  {
   "cell_type": "code",
   "execution_count": 27,
   "metadata": {},
   "outputs": [],
   "source": [
    "tidy_df.assign(dataset='COIL-20').to_csv('coil20_crossval_results.csv')"
   ]
  },
  {
   "cell_type": "code",
   "execution_count": null,
   "metadata": {},
   "outputs": [],
   "source": []
  }
 ],
 "metadata": {
  "kernelspec": {
   "display_name": "Python [conda env:umap_dev]",
   "language": "python",
   "name": "conda-env-umap_dev-py"
  },
  "language_info": {
   "codemirror_mode": {
    "name": "ipython",
    "version": 3
   },
   "file_extension": ".py",
   "mimetype": "text/x-python",
   "name": "python",
   "nbconvert_exporter": "python",
   "pygments_lexer": "ipython3",
   "version": "3.6.8"
  }
 },
 "nbformat": 4,
 "nbformat_minor": 2
}
